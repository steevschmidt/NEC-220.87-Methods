{
  "cells": [
    {
      "cell_type": "markdown",
      "metadata": {
        "id": "view-in-github",
        "colab_type": "text"
      },
      "source": [
        "<a href=\"https://colab.research.google.com/github/steevschmidt/NEC-220.87-Methods/blob/main/2022_HEA_220_87_Methods.ipynb\" target=\"_parent\"><img src=\"https://colab.research.google.com/assets/colab-badge.svg\" alt=\"Open In Colab\"/></a>"
      ]
    },
    {
      "cell_type": "code",
      "source": [
        "# Run this cell (Shift+Enter) as a prerequisite for using Gradio UI in Google Colab,\n",
        "# then make sure to perform \"Runtime > Restart session\" for the change to take effect!\n",
        "\n",
        "!pip install -U gradio"
      ],
      "metadata": {
        "id": "ZBe77NQLnay2",
        "colab": {
          "base_uri": "https://localhost:8080/"
        },
        "outputId": "59c19c3a-f829-467f-d45c-aa4e495d1075"
      },
      "id": "ZBe77NQLnay2",
      "execution_count": 1,
      "outputs": [
        {
          "output_type": "stream",
          "name": "stdout",
          "text": [
            "Collecting gradio\n",
            "  Downloading gradio-5.17.1-py3-none-any.whl.metadata (16 kB)\n",
            "Collecting aiofiles<24.0,>=22.0 (from gradio)\n",
            "  Downloading aiofiles-23.2.1-py3-none-any.whl.metadata (9.7 kB)\n",
            "Requirement already satisfied: anyio<5.0,>=3.0 in /usr/local/lib/python3.11/dist-packages (from gradio) (3.7.1)\n",
            "Collecting fastapi<1.0,>=0.115.2 (from gradio)\n",
            "  Downloading fastapi-0.115.8-py3-none-any.whl.metadata (27 kB)\n",
            "Collecting ffmpy (from gradio)\n",
            "  Downloading ffmpy-0.5.0-py3-none-any.whl.metadata (3.0 kB)\n",
            "Collecting gradio-client==1.7.1 (from gradio)\n",
            "  Downloading gradio_client-1.7.1-py3-none-any.whl.metadata (7.1 kB)\n",
            "Requirement already satisfied: httpx>=0.24.1 in /usr/local/lib/python3.11/dist-packages (from gradio) (0.28.1)\n",
            "Requirement already satisfied: huggingface-hub>=0.28.1 in /usr/local/lib/python3.11/dist-packages (from gradio) (0.28.1)\n",
            "Requirement already satisfied: jinja2<4.0 in /usr/local/lib/python3.11/dist-packages (from gradio) (3.1.5)\n",
            "Collecting markupsafe~=2.0 (from gradio)\n",
            "  Downloading MarkupSafe-2.1.5-cp311-cp311-manylinux_2_17_x86_64.manylinux2014_x86_64.whl.metadata (3.0 kB)\n",
            "Requirement already satisfied: numpy<3.0,>=1.0 in /usr/local/lib/python3.11/dist-packages (from gradio) (1.26.4)\n",
            "Requirement already satisfied: orjson~=3.0 in /usr/local/lib/python3.11/dist-packages (from gradio) (3.10.15)\n",
            "Requirement already satisfied: packaging in /usr/local/lib/python3.11/dist-packages (from gradio) (24.2)\n",
            "Requirement already satisfied: pandas<3.0,>=1.0 in /usr/local/lib/python3.11/dist-packages (from gradio) (2.2.2)\n",
            "Requirement already satisfied: pillow<12.0,>=8.0 in /usr/local/lib/python3.11/dist-packages (from gradio) (11.1.0)\n",
            "Requirement already satisfied: pydantic>=2.0 in /usr/local/lib/python3.11/dist-packages (from gradio) (2.10.6)\n",
            "Collecting pydub (from gradio)\n",
            "  Downloading pydub-0.25.1-py2.py3-none-any.whl.metadata (1.4 kB)\n",
            "Collecting python-multipart>=0.0.18 (from gradio)\n",
            "  Downloading python_multipart-0.0.20-py3-none-any.whl.metadata (1.8 kB)\n",
            "Requirement already satisfied: pyyaml<7.0,>=5.0 in /usr/local/lib/python3.11/dist-packages (from gradio) (6.0.2)\n",
            "Collecting ruff>=0.9.3 (from gradio)\n",
            "  Downloading ruff-0.9.7-py3-none-manylinux_2_17_x86_64.manylinux2014_x86_64.whl.metadata (25 kB)\n",
            "Collecting safehttpx<0.2.0,>=0.1.6 (from gradio)\n",
            "  Downloading safehttpx-0.1.6-py3-none-any.whl.metadata (4.2 kB)\n",
            "Collecting semantic-version~=2.0 (from gradio)\n",
            "  Downloading semantic_version-2.10.0-py2.py3-none-any.whl.metadata (9.7 kB)\n",
            "Collecting starlette<1.0,>=0.40.0 (from gradio)\n",
            "  Downloading starlette-0.46.0-py3-none-any.whl.metadata (6.2 kB)\n",
            "Collecting tomlkit<0.14.0,>=0.12.0 (from gradio)\n",
            "  Downloading tomlkit-0.13.2-py3-none-any.whl.metadata (2.7 kB)\n",
            "Requirement already satisfied: typer<1.0,>=0.12 in /usr/local/lib/python3.11/dist-packages (from gradio) (0.15.1)\n",
            "Requirement already satisfied: typing-extensions~=4.0 in /usr/local/lib/python3.11/dist-packages (from gradio) (4.12.2)\n",
            "Collecting uvicorn>=0.14.0 (from gradio)\n",
            "  Downloading uvicorn-0.34.0-py3-none-any.whl.metadata (6.5 kB)\n",
            "Requirement already satisfied: fsspec in /usr/local/lib/python3.11/dist-packages (from gradio-client==1.7.1->gradio) (2024.10.0)\n",
            "Requirement already satisfied: websockets<15.0,>=10.0 in /usr/local/lib/python3.11/dist-packages (from gradio-client==1.7.1->gradio) (14.2)\n",
            "Requirement already satisfied: idna>=2.8 in /usr/local/lib/python3.11/dist-packages (from anyio<5.0,>=3.0->gradio) (3.10)\n",
            "Requirement already satisfied: sniffio>=1.1 in /usr/local/lib/python3.11/dist-packages (from anyio<5.0,>=3.0->gradio) (1.3.1)\n",
            "Collecting starlette<1.0,>=0.40.0 (from gradio)\n",
            "  Downloading starlette-0.45.3-py3-none-any.whl.metadata (6.3 kB)\n",
            "Requirement already satisfied: certifi in /usr/local/lib/python3.11/dist-packages (from httpx>=0.24.1->gradio) (2025.1.31)\n",
            "Requirement already satisfied: httpcore==1.* in /usr/local/lib/python3.11/dist-packages (from httpx>=0.24.1->gradio) (1.0.7)\n",
            "Requirement already satisfied: h11<0.15,>=0.13 in /usr/local/lib/python3.11/dist-packages (from httpcore==1.*->httpx>=0.24.1->gradio) (0.14.0)\n",
            "Requirement already satisfied: filelock in /usr/local/lib/python3.11/dist-packages (from huggingface-hub>=0.28.1->gradio) (3.17.0)\n",
            "Requirement already satisfied: requests in /usr/local/lib/python3.11/dist-packages (from huggingface-hub>=0.28.1->gradio) (2.32.3)\n",
            "Requirement already satisfied: tqdm>=4.42.1 in /usr/local/lib/python3.11/dist-packages (from huggingface-hub>=0.28.1->gradio) (4.67.1)\n",
            "Requirement already satisfied: python-dateutil>=2.8.2 in /usr/local/lib/python3.11/dist-packages (from pandas<3.0,>=1.0->gradio) (2.8.2)\n",
            "Requirement already satisfied: pytz>=2020.1 in /usr/local/lib/python3.11/dist-packages (from pandas<3.0,>=1.0->gradio) (2025.1)\n",
            "Requirement already satisfied: tzdata>=2022.7 in /usr/local/lib/python3.11/dist-packages (from pandas<3.0,>=1.0->gradio) (2025.1)\n",
            "Requirement already satisfied: annotated-types>=0.6.0 in /usr/local/lib/python3.11/dist-packages (from pydantic>=2.0->gradio) (0.7.0)\n",
            "Requirement already satisfied: pydantic-core==2.27.2 in /usr/local/lib/python3.11/dist-packages (from pydantic>=2.0->gradio) (2.27.2)\n",
            "Requirement already satisfied: click>=8.0.0 in /usr/local/lib/python3.11/dist-packages (from typer<1.0,>=0.12->gradio) (8.1.8)\n",
            "Requirement already satisfied: shellingham>=1.3.0 in /usr/local/lib/python3.11/dist-packages (from typer<1.0,>=0.12->gradio) (1.5.4)\n",
            "Requirement already satisfied: rich>=10.11.0 in /usr/local/lib/python3.11/dist-packages (from typer<1.0,>=0.12->gradio) (13.9.4)\n",
            "Requirement already satisfied: six>=1.5 in /usr/local/lib/python3.11/dist-packages (from python-dateutil>=2.8.2->pandas<3.0,>=1.0->gradio) (1.17.0)\n",
            "Requirement already satisfied: markdown-it-py>=2.2.0 in /usr/local/lib/python3.11/dist-packages (from rich>=10.11.0->typer<1.0,>=0.12->gradio) (3.0.0)\n",
            "Requirement already satisfied: pygments<3.0.0,>=2.13.0 in /usr/local/lib/python3.11/dist-packages (from rich>=10.11.0->typer<1.0,>=0.12->gradio) (2.18.0)\n",
            "Requirement already satisfied: charset-normalizer<4,>=2 in /usr/local/lib/python3.11/dist-packages (from requests->huggingface-hub>=0.28.1->gradio) (3.4.1)\n",
            "Requirement already satisfied: urllib3<3,>=1.21.1 in /usr/local/lib/python3.11/dist-packages (from requests->huggingface-hub>=0.28.1->gradio) (2.3.0)\n",
            "Requirement already satisfied: mdurl~=0.1 in /usr/local/lib/python3.11/dist-packages (from markdown-it-py>=2.2.0->rich>=10.11.0->typer<1.0,>=0.12->gradio) (0.1.2)\n",
            "Downloading gradio-5.17.1-py3-none-any.whl (62.3 MB)\n",
            "\u001b[2K   \u001b[90m━━━━━━━━━━━━━━━━━━━━━━━━━━━━━━━━━━━━━━━━\u001b[0m \u001b[32m62.3/62.3 MB\u001b[0m \u001b[31m15.0 MB/s\u001b[0m eta \u001b[36m0:00:00\u001b[0m\n",
            "\u001b[?25hDownloading gradio_client-1.7.1-py3-none-any.whl (321 kB)\n",
            "\u001b[2K   \u001b[90m━━━━━━━━━━━━━━━━━━━━━━━━━━━━━━━━━━━━━━━━\u001b[0m \u001b[32m322.0/322.0 kB\u001b[0m \u001b[31m13.5 MB/s\u001b[0m eta \u001b[36m0:00:00\u001b[0m\n",
            "\u001b[?25hDownloading aiofiles-23.2.1-py3-none-any.whl (15 kB)\n",
            "Downloading fastapi-0.115.8-py3-none-any.whl (94 kB)\n",
            "\u001b[2K   \u001b[90m━━━━━━━━━━━━━━━━━━━━━━━━━━━━━━━━━━━━━━━━\u001b[0m \u001b[32m94.8/94.8 kB\u001b[0m \u001b[31m6.8 MB/s\u001b[0m eta \u001b[36m0:00:00\u001b[0m\n",
            "\u001b[?25hDownloading MarkupSafe-2.1.5-cp311-cp311-manylinux_2_17_x86_64.manylinux2014_x86_64.whl (28 kB)\n",
            "Downloading python_multipart-0.0.20-py3-none-any.whl (24 kB)\n",
            "Downloading ruff-0.9.7-py3-none-manylinux_2_17_x86_64.manylinux2014_x86_64.whl (12.6 MB)\n",
            "\u001b[2K   \u001b[90m━━━━━━━━━━━━━━━━━━━━━━━━━━━━━━━━━━━━━━━━\u001b[0m \u001b[32m12.6/12.6 MB\u001b[0m \u001b[31m77.3 MB/s\u001b[0m eta \u001b[36m0:00:00\u001b[0m\n",
            "\u001b[?25hDownloading safehttpx-0.1.6-py3-none-any.whl (8.7 kB)\n",
            "Downloading semantic_version-2.10.0-py2.py3-none-any.whl (15 kB)\n",
            "Downloading starlette-0.45.3-py3-none-any.whl (71 kB)\n",
            "\u001b[2K   \u001b[90m━━━━━━━━━━━━━━━━━━━━━━━━━━━━━━━━━━━━━━━━\u001b[0m \u001b[32m71.5/71.5 kB\u001b[0m \u001b[31m5.0 MB/s\u001b[0m eta \u001b[36m0:00:00\u001b[0m\n",
            "\u001b[?25hDownloading tomlkit-0.13.2-py3-none-any.whl (37 kB)\n",
            "Downloading uvicorn-0.34.0-py3-none-any.whl (62 kB)\n",
            "\u001b[2K   \u001b[90m━━━━━━━━━━━━━━━━━━━━━━━━━━━━━━━━━━━━━━━━\u001b[0m \u001b[32m62.3/62.3 kB\u001b[0m \u001b[31m4.4 MB/s\u001b[0m eta \u001b[36m0:00:00\u001b[0m\n",
            "\u001b[?25hDownloading ffmpy-0.5.0-py3-none-any.whl (6.0 kB)\n",
            "Downloading pydub-0.25.1-py2.py3-none-any.whl (32 kB)\n",
            "Installing collected packages: pydub, uvicorn, tomlkit, semantic-version, ruff, python-multipart, markupsafe, ffmpy, aiofiles, starlette, safehttpx, gradio-client, fastapi, gradio\n",
            "  Attempting uninstall: markupsafe\n",
            "    Found existing installation: MarkupSafe 3.0.2\n",
            "    Uninstalling MarkupSafe-3.0.2:\n",
            "      Successfully uninstalled MarkupSafe-3.0.2\n",
            "Successfully installed aiofiles-23.2.1 fastapi-0.115.8 ffmpy-0.5.0 gradio-5.17.1 gradio-client-1.7.1 markupsafe-2.1.5 pydub-0.25.1 python-multipart-0.0.20 ruff-0.9.7 safehttpx-0.1.6 semantic-version-2.10.0 starlette-0.45.3 tomlkit-0.13.2 uvicorn-0.34.0\n"
          ]
        }
      ]
    },
    {
      "cell_type": "markdown",
      "id": "1121706c-151c-4aa1-abac-ca7043b88033",
      "metadata": {
        "id": "1121706c-151c-4aa1-abac-ca7043b88033"
      },
      "source": [
        "# Highest hourly load estimation from meter data\n",
        "\n",
        "In this section we construct and demonstrate our highest hourly load estimation step by step, using some example CSV data.\n",
        "\n",
        "In the next pane, we start by loading the CSV data into a pandas dataframe (pandas is the standard Python library for manipulating tabular data).\n",
        "\n",
        "Naively, one would expect the data from a single meter to be either hourly or 15-minute level interval data. In reality, the data is sometimes mixed (some hours have just the hourly sum value, some have the 15-minute subintervals), some values may be missing (for an entire hour, or maybe just for some 15-minute intervals), duplicate values for the same interval (with the same or different value) may exist, and quite often the 15-minute-interval data is in fact hourly (all subinterval values are the same; e.g. the hourly sum value / 4). The algorithm presented here is supposed to deal with all such cases in a single pass by deriving the period (interval length for scaling values into hourly level) and character of the data (real or fake hourly) from the data itself.\n",
        "\n",
        "Take a closer look at the example data below to observe some peculiarities that will highlight the exact working of our algorithm:\n",
        " * There are four identical values for 15-minute subintervals at hour 14:00. When all values from an hour are all the same, they are interpreted either as normal hourly data (in normal case when there's just one value) or as \"fake 15-minute interval\" (in case there are multiple values, but all are same). Both cases will lead to the applying of a multiplicative factor (1.3) for hourly-level data later on.\n",
        " * There are only three values for 15-minute subintervals at hour 15:00. Since not all the values of this hour are the same, they will be interpreted as true 15-minute interval data, i.e. the multiplicative factor for hourly-level data will not be applied later on.\n",
        " * There are two identical values for the same interval 16:00:00. This will be interpreted as if there was just a single value (the higher value) for that interval because the timestamps are not different. Because there is a distinct value for 16:15:00, the period (data resolution) for that hour will still be 4 (15-minute interval).\n",
        " * There is just one value for 17:00:00. Because there are no other values, that value will be interpreted as period 1 (hourly)."
      ]
    },
    {
      "cell_type": "code",
      "execution_count": 1,
      "id": "70b1702f-307a-499f-818d-3d2bd532c54b",
      "metadata": {
        "colab": {
          "base_uri": "https://localhost:8080/"
        },
        "id": "70b1702f-307a-499f-818d-3d2bd532c54b",
        "outputId": "27624e64-d298-4540-8130-8034bda87210"
      },
      "outputs": [
        {
          "output_type": "stream",
          "name": "stdout",
          "text": [
            "Raw input data (mixed hourly/15-minute interval):\n",
            "               DateTime    kW\n",
            "0  2023-11-25 14:00:00  0.81\n",
            "1  2023-11-25 14:15:00  0.81\n",
            "2  2023-11-25 14:30:00  0.81\n",
            "3  2023-11-25 14:45:00  0.81\n",
            "4  2023-11-25 15:00:00  0.78\n",
            "5  2023-11-25 15:15:00  0.86\n",
            "6  2023-11-25 15:30:00  0.78\n",
            "7  2023-11-25 15:45:00  0.81\n",
            "8  2023-11-25 16:00:00  0.75\n",
            "9  2023-11-25 16:00:00  0.77\n",
            "10 2023-11-25 16:15:00  0.67\n",
            "11 2023-11-25 17:00:00  3.23 \n",
            "\n"
          ]
        }
      ],
      "source": [
        "import pandas as pd\n",
        "import numpy  as np\n",
        "from io import StringIO\n",
        "\n",
        "sample_csv = \"\"\"DateTime,kW\n",
        "\"2023-11-25 14:00:00\",0.81\n",
        "\"2023-11-25 14:15:00\",0.81\n",
        "\"2023-11-25 14:30:00\",0.81\n",
        "\"2023-11-25 14:45:00\",0.81\n",
        "\"2023-11-25 15:00:00\",0.78\n",
        "\"2023-11-25 15:15:00\",0.86\n",
        "\"2023-11-25 15:30:00\",0.78\n",
        "\"2023-11-25 15:45:00\",0.81\n",
        "\"2023-11-25 16:00:00\",0.75\n",
        "\"2023-11-25 16:00:00\",0.77\n",
        "\"2023-11-25 16:15:00\",0.67\n",
        "\"2023-11-25 17:00:00\",3.23\n",
        "\"\"\"\n",
        "\n",
        "df = pd.read_csv(StringIO(sample_csv), parse_dates=[\"DateTime\"])\n",
        "print(\"Raw input data (mixed hourly/15-minute interval):\\n\", df, \"\\n\")\n"
      ]
    },
    {
      "cell_type": "markdown",
      "id": "d3d1ad6b-6a17-4d7c-b42f-3e68d5340adc",
      "metadata": {
        "id": "d3d1ad6b-6a17-4d7c-b42f-3e68d5340adc"
      },
      "source": [
        "## Group data into hourly intervals and calculate per-hour data quality metrics\n",
        "\n",
        "The first step is to group the raw meter data by (top of) hour from each timestamp, find the max (interval-level) kW within each hour, and also the count of unique meter values and the count of unique timestamps within the same hour.\n",
        "\n",
        "Following that, we also add a \"period\" column to indicate whether we classify the hour's data as \"15-minute-interval-level\" (no matter if fake or real) or \"hourly-level\". Values are only assumed as \"hourly-level\" when there is a single unique timestamp within that hour; otherwise they are assumed as \"15-minute-level\"."
      ]
    },
    {
      "cell_type": "code",
      "execution_count": 2,
      "id": "04ad0c3f-53f1-46d3-b3dc-63ca7de2bfda",
      "metadata": {
        "colab": {
          "base_uri": "https://localhost:8080/"
        },
        "id": "04ad0c3f-53f1-46d3-b3dc-63ca7de2bfda",
        "outputId": "09723446-80ba-4316-9493-df7d4c3e4bb9"
      },
      "outputs": [
        {
          "output_type": "stream",
          "name": "stdout",
          "text": [
            "After hourly aggregation, maximum subinterval value (kW_max) calculation, and fake 15-minute data (kW_nunique) and period (hourly=1 or 15-minute resolution=4) detection:\n",
            "              DateTime  kW_max  kW_nunique  DateTime_nunique  period\n",
            "0 2023-11-25 14:00:00    0.81           1                 4       4\n",
            "1 2023-11-25 15:00:00    0.86           3                 4       4\n",
            "2 2023-11-25 16:00:00    0.77           3                 2       4\n",
            "3 2023-11-25 17:00:00    3.23           1                 1       1 \n",
            "\n"
          ]
        },
        {
          "output_type": "stream",
          "name": "stderr",
          "text": [
            "<ipython-input-2-5323d1d7cbc7>:2: FutureWarning: 'H' is deprecated and will be removed in a future version, please use 'h' instead.\n",
            "  df_hourly = df.groupby(pd.Grouper(freq='H', level='DateTime')).agg({'kW': ['max', 'nunique'], 'DateTime': 'nunique'})\n"
          ]
        }
      ],
      "source": [
        "df.set_index('DateTime', inplace=True, drop=False)\n",
        "df_hourly = df.groupby(pd.Grouper(freq='H', level='DateTime')).agg({'kW': ['max', 'nunique'], 'DateTime': 'nunique'})\n",
        "df_hourly.columns = df_hourly.columns.map('_'.join)\n",
        "df_hourly['period'] = np.where(df_hourly['DateTime_nunique'] == 1, 1, 4)\n",
        "df_hourly = df_hourly.reset_index()\n",
        "\n",
        "print(\"After hourly aggregation, maximum subinterval value (kW_max) calculation, and fake 15-minute data (kW_nunique) and period (hourly=1 or 15-minute resolution=4) detection:\\n\", df_hourly, \"\\n\")"
      ]
    },
    {
      "cell_type": "markdown",
      "id": "a8d28e4b-61ff-4400-9107-74a9e5a599ce",
      "metadata": {
        "id": "a8d28e4b-61ff-4400-9107-74a9e5a599ce"
      },
      "source": [
        "## Calculate maximum load for each hour; extrapolate from 15-minute maxima; apply adjustment factor\n",
        "\n",
        "Finally, we use the intermediate metrics obtained above to calculate the final maximum hourly usage values:\n",
        " * we multiply any found 15-minute maximum by 4 (based on determined \"period\")\n",
        " * we multiply any hourly-level data (either real hourly data or fake 15-minute interval data) by 1.3 (based on determined count of unique values within the hour)"
      ]
    },
    {
      "cell_type": "code",
      "execution_count": 3,
      "id": "a96967b2-53ff-49a2-85cd-002b2b0c23ed",
      "metadata": {
        "colab": {
          "base_uri": "https://localhost:8080/"
        },
        "id": "a96967b2-53ff-49a2-85cd-002b2b0c23ed",
        "outputId": "8e4b64d6-1ec7-4cf5-a930-ff5f1e23836a"
      },
      "outputs": [
        {
          "output_type": "stream",
          "name": "stdout",
          "text": [
            "After applying extrapolation using period and the factor 1.3 for hourly-level data:\n",
            "              DateTime  kW_max  kW_nunique  DateTime_nunique  period  \\\n",
            "0 2023-11-25 14:00:00    0.81           1                 4       4   \n",
            "1 2023-11-25 15:00:00    0.86           3                 4       4   \n",
            "2 2023-11-25 16:00:00    0.77           3                 2       4   \n",
            "3 2023-11-25 17:00:00    3.23           1                 1       1   \n",
            "\n",
            "   kW_max_adj  \n",
            "0       4.212  \n",
            "1       3.440  \n",
            "2       3.080  \n",
            "3       4.199   \n",
            "\n"
          ]
        }
      ],
      "source": [
        "df_hourly['kW_max_adj'] = np.where(df_hourly['kW_nunique'] == 1, df_hourly['kW_max'] * df_hourly['period'] * 1.3, df_hourly['kW_max'] * df_hourly['period'])\n",
        "\n",
        "print(\"After applying extrapolation using period and the factor 1.3 for hourly-level data:\\n\", df_hourly, \"\\n\")"
      ]
    },
    {
      "cell_type": "markdown",
      "id": "b52e1819-644f-4c7e-8f8f-befad31349bb",
      "metadata": {
        "id": "b52e1819-644f-4c7e-8f8f-befad31349bb"
      },
      "source": [
        "## Estimate maximum hourly load over the entire analyzed period\n",
        "\n",
        "The largest of the determined hourly maxima is our estimated highest hourly load (which is then used as a parameter for the remaining panel capacity calculation):"
      ]
    },
    {
      "cell_type": "code",
      "execution_count": 4,
      "id": "d956a8de-b5d4-4cbf-a570-9810f1fe1360",
      "metadata": {
        "colab": {
          "base_uri": "https://localhost:8080/"
        },
        "id": "d956a8de-b5d4-4cbf-a570-9810f1fe1360",
        "outputId": "ca33ac08-0242-459e-e66b-e9a51715419b"
      },
      "outputs": [
        {
          "output_type": "stream",
          "name": "stdout",
          "text": [
            "Expected peak hourly load = 4.21 kW\n"
          ]
        }
      ],
      "source": [
        "peak_hourly_load_kW = df_hourly['kW_max_adj'].max()\n",
        "\n",
        "print(f\"Expected peak hourly load = {peak_hourly_load_kW:.2f} kW\")"
      ]
    },
    {
      "cell_type": "markdown",
      "id": "8e2583b5-acd0-4acd-9bb6-86c225a72c4e",
      "metadata": {
        "id": "8e2583b5-acd0-4acd-9bb6-86c225a72c4e"
      },
      "source": [
        "# Remaining panel capacity calculation\n",
        "\n",
        "We estimate the remaining panel capacity by subtracting the estimated peak hourly load multiplied by a safety factor from the current panel capacity (provided in amps):"
      ]
    },
    {
      "cell_type": "code",
      "execution_count": 5,
      "id": "b9791ab8-0e63-4b5e-b27f-dd739bf334d1",
      "metadata": {
        "colab": {
          "base_uri": "https://localhost:8080/"
        },
        "id": "b9791ab8-0e63-4b5e-b27f-dd739bf334d1",
        "outputId": "49a7ea27-8ecb-4d90-e765-c20612e0a9c5"
      },
      "outputs": [
        {
          "output_type": "stream",
          "name": "stdout",
          "text": [
            "Estimated remaining panel capacity = 30.73 kW\n"
          ]
        }
      ],
      "source": [
        "panel_size_A = 150\n",
        "panel_voltage_V = 240\n",
        "current_capacity_kW = panel_size_A * panel_voltage_V / 1000\n",
        "remaining_capacity_kW = current_capacity_kW - 1.25 * peak_hourly_load_kW\n",
        "\n",
        "print(f\"Estimated remaining panel capacity = {remaining_capacity_kW:.2f} kW\")"
      ]
    },
    {
      "cell_type": "markdown",
      "id": "f6b5ab03-d8d2-41e7-9e88-fc9f7bd3fee7",
      "metadata": {
        "id": "f6b5ab03-d8d2-41e7-9e88-fc9f7bd3fee7"
      },
      "source": [
        "# Wrap up\n",
        "\n",
        "The following pane contains all the calculations described above wrapped into two reusable Python functions which can be used standalone (with the required preinstalled pandas and numpy packages):"
      ]
    },
    {
      "cell_type": "code",
      "execution_count": 8,
      "id": "e823b710-5338-4b75-8ba8-558c03de2af4",
      "metadata": {
        "id": "e823b710-5338-4b75-8ba8-558c03de2af4"
      },
      "outputs": [],
      "source": [
        "import pandas as pd\n",
        "import numpy as np\n",
        "\n",
        "def get_peak_hourly_load(df : pd.DataFrame) -> float:\n",
        "    \"\"\"Estimates the peak hourly load in kW from meter values.\n",
        "\n",
        "    Arguments:\n",
        "        df:\n",
        "            Input meter values, supplied as a pandas dataframe with the following columns:\n",
        "                \"DateTime\" (the measurement interval's start in format \"YYYY-MM-DD HH:MM:00\"),\n",
        "                \"kW\" (the measured meter value in kilowatts)\n",
        "            The dataframe may contain a mix of hourly and 15-minute interval values.\n",
        "\n",
        "    Returns:\n",
        "        A float value for the estimated peak hourly load in kW\n",
        "    \"\"\"\n",
        "    df.set_index('DateTime', inplace=True, drop=False)\n",
        "    df_hourly = df.groupby(pd.Grouper(freq='h', level='DateTime')).agg({'kW': ['max', 'nunique'], 'DateTime': 'nunique'})\n",
        "    df_hourly.columns = df_hourly.columns.map('_'.join)\n",
        "    df_hourly['period'] = np.where(df_hourly['DateTime_nunique'] == 1, 1, 4)\n",
        "    df_hourly['kW_max_adj'] = np.where(df_hourly['kW_nunique'] == 1, df_hourly['kW_max'] * df_hourly['period'] * 1.3, df_hourly['kW_max'] * df_hourly['period'])\n",
        "    return df_hourly['kW_max_adj'].max()\n",
        "\n",
        "def get_remaining_panel_capacity(peak_hourly_load_kW : float, panel_size_A : int, panel_voltage_V = 240) -> float:\n",
        "    \"\"\"Estimates the remaining panel capacity in kW from panel size and peak hourly load.\n",
        "\n",
        "    Arguments:\n",
        "        peak_hourly_load_kW:\n",
        "            Estimated peak hourly load in kilowatts, see get_peak_hourly_load\n",
        "        panel_size_A:\n",
        "            Current panel size in amperes (amps)\n",
        "        panel_voltage_V:\n",
        "            Current panel voltage in volts (default: 240V)\n",
        "    Returns:\n",
        "        A float value for the remaining electric panel capacity in kW, according to NEC-220.87\n",
        "    \"\"\"\n",
        "    return panel_size_A * panel_voltage_V / 1000 - 1.25 * peak_hourly_load_kW"
      ]
    },
    {
      "cell_type": "code",
      "execution_count": 9,
      "id": "778f8a45-e4bf-4a20-938c-086fe91e2b79",
      "metadata": {
        "colab": {
          "base_uri": "https://localhost:8080/"
        },
        "id": "778f8a45-e4bf-4a20-938c-086fe91e2b79",
        "outputId": "5ba347f5-a243-4f0b-c053-41e10c945965"
      },
      "outputs": [
        {
          "output_type": "stream",
          "name": "stdout",
          "text": [
            "Expected peak hourly load = 4.21 kW\n",
            "Estimated remaining panel capacity = 30.73 kW\n"
          ]
        }
      ],
      "source": [
        "print(f\"Expected peak hourly load = {get_peak_hourly_load(df):.2f} kW\")\n",
        "print(f\"Estimated remaining panel capacity = {get_remaining_panel_capacity(get_peak_hourly_load(df), 150):.2f} kW\")"
      ]
    },
    {
      "cell_type": "markdown",
      "id": "21c9a735-aff1-486f-a3cc-c8abc8aaa4a5",
      "metadata": {
        "id": "21c9a735-aff1-486f-a3cc-c8abc8aaa4a5"
      },
      "source": [
        "# Gradio UI\n",
        "\n",
        "This simple UI allows the user to upload a CSV file with their meter data, outputs the calculated peak hourly load and remaining panel capacity and displays a chart with average/max observed and peak loads. Note that no input validation is performed on the uploaded data (yet).\n",
        "\n",
        "In order be able to start the Gradio GUI below, make sure that you have first run the first \"pip install\" cell of this notebook to install Gradio (and restarted session) and after that also have run the above \"Wrap up\" cell which contains the definitions of the panel tool Python functions (because the UI uses them)."
      ]
    },
    {
      "cell_type": "code",
      "execution_count": 10,
      "id": "ada841ff-5e0a-42b0-a3df-89b0ab356965",
      "metadata": {
        "colab": {
          "base_uri": "https://localhost:8080/",
          "height": 680
        },
        "id": "ada841ff-5e0a-42b0-a3df-89b0ab356965",
        "outputId": "63fd5b83-d181-4d2a-d42e-89063700d4fa"
      },
      "outputs": [
        {
          "output_type": "stream",
          "name": "stderr",
          "text": [
            "/usr/local/lib/python3.11/dist-packages/gradio/interface.py:403: UserWarning: The `allow_flagging` parameter in `Interface` is deprecated.Use `flagging_mode` instead.\n",
            "  warnings.warn(\n"
          ]
        },
        {
          "output_type": "stream",
          "name": "stdout",
          "text": [
            "Running Gradio in a Colab notebook requires sharing enabled. Automatically setting `share=True` (you can turn this off by setting `share=False` in `launch()` explicitly).\n",
            "\n",
            "Colab notebook detected. To show errors in colab notebook, set debug=True in launch()\n",
            "* Running on public URL: https://07186bc2f7d9000c8e.gradio.live\n",
            "\n",
            "This share link expires in 72 hours. For free permanent hosting and GPU upgrades, run `gradio deploy` from the terminal in the working directory to deploy to Hugging Face Spaces (https://huggingface.co/spaces)\n"
          ]
        },
        {
          "output_type": "display_data",
          "data": {
            "text/plain": [
              "<IPython.core.display.HTML object>"
            ],
            "text/html": [
              "<div><iframe src=\"https://07186bc2f7d9000c8e.gradio.live\" width=\"100%\" height=\"500\" allow=\"autoplay; camera; microphone; clipboard-read; clipboard-write;\" frameborder=\"0\" allowfullscreen></iframe></div>"
            ]
          },
          "metadata": {}
        },
        {
          "output_type": "execute_result",
          "data": {
            "text/plain": []
          },
          "metadata": {},
          "execution_count": 10
        }
      ],
      "source": [
        "import gradio as gr\n",
        "import pandas as pd\n",
        "from io import StringIO\n",
        "\n",
        "import warnings\n",
        "from altair.utils.deprecation import AltairDeprecationWarning\n",
        "warnings.filterwarnings(\"ignore\", category=AltairDeprecationWarning)\n",
        "\n",
        "#import altair as alt\n",
        "#alt.data_transformers.enable(\"vegafusion\")\n",
        "\n",
        "sample_csv = \"\"\"DateTime,kW\n",
        "\"2023-11-25 14:00:00\",0.81\n",
        "\"2023-11-25 14:15:00\",0.81\n",
        "\"2023-11-25 14:30:00\",0.81\n",
        "\"2023-11-25 14:45:00\",0.81\n",
        "\"2023-11-25 15:00:00\",0.78\n",
        "\"2023-11-25 15:15:00\",0.86\n",
        "\"2023-11-25 15:30:00\",0.78\n",
        "\"2023-11-25 15:45:00\",0.81\n",
        "\"2023-11-25 16:00:00\",0.75\n",
        "\"2023-11-25 16:00:00\",0.77\n",
        "\"2023-11-25 16:15:00\",0.67\n",
        "\"2023-11-25 17:00:00\",3.23\n",
        "\"\"\"\n",
        "\n",
        "def process_inputs(temp_file, panel_size_A, panel_voltage_V):\n",
        "    if temp_file.startswith(\"DateTime\"):\n",
        "      df = pd.read_csv(StringIO(temp_file), parse_dates=[\"DateTime\"])\n",
        "    else:\n",
        "      df = pd.read_csv(temp_file.name, parse_dates=[\"DateTime\"])\n",
        "\n",
        "    peak_hourly_load_kW = get_peak_hourly_load(df)\n",
        "    remaining_panel_capacity_kW = get_remaining_panel_capacity(peak_hourly_load_kW, panel_size_A, panel_voltage_V)\n",
        "\n",
        "    # As a bonus, draw a simple average/max plot of the hourly loads,\n",
        "    # along with the calculated peak hourly load as a horizontal line above them\n",
        "\n",
        "    df.set_index('DateTime', inplace=True)\n",
        "    df['hour'] = df.index.hour\n",
        "    df_hourly_mean = df.groupby('hour').mean().reset_index(drop=False)\n",
        "    df_hourly_max  = df.groupby('hour').max().reset_index(drop=False)\n",
        "    df_hourly_peak = df.groupby('hour').first().reset_index(drop=False)\n",
        "    df_hourly_peak['kW'] = peak_hourly_load_kW\n",
        "\n",
        "    df_hourly = pd.concat([df_hourly_peak, df_hourly_max, df_hourly_mean], ignore_index=True)\n",
        "    df_hourly['stat'] = ['peak'] * len(df_hourly_peak) + ['max'] * len(df_hourly_max) + ['mean'] * len(df_hourly_mean)\n",
        "    df_hourly = df_hourly.melt(id_vars=['hour', 'stat'], var_name='column', value_name='kW_value')\n",
        "    df_hourly = df_hourly.drop('column', axis=1)\n",
        "\n",
        "    return (peak_hourly_load_kW, remaining_panel_capacity_kW, df_hourly)\n",
        "\n",
        "demo = gr.Interface(\n",
        "    fn=process_inputs,\n",
        "    allow_flagging='never',\n",
        "    inputs=[\n",
        "        gr.UploadButton(label=\"Click to upload meter data in CSV format (DateTime, kW)\", file_types = ['.csv'], file_count = \"single\"),\n",
        "        gr.Number(label=\"Current panel capacity in amps\", value=150),\n",
        "        gr.Number(label=\"Current panel voltage\", value=240),\n",
        "    ],\n",
        "    outputs=[\n",
        "        gr.Number(label=\"Peak hourly load in kW\", precision=2),\n",
        "        gr.Number(label=\"Remaining panel capacity in kW\", precision=2),\n",
        "        gr.LinePlot(label=\"Hourly loads\", x=\"hour\", y=\"kW_value\", color='stat', width=400, height=200, interactive=False),\n",
        "    ],\n",
        ")\n",
        "\n",
        "demo.launch()\n",
        "#demo.launch(debug=True)"
      ]
    },
    {
      "cell_type": "markdown",
      "id": "c8f4c935-8d2c-4ef3-a8b6-4dddf0039ef3",
      "metadata": {
        "id": "c8f4c935-8d2c-4ef3-a8b6-4dddf0039ef3"
      },
      "source": [
        "# Additional information / original HEA implementation\n",
        "\n",
        "For further reference, here's the query used in HEA SmartAudit to compute sv_highestIntervalKW (same as highestHourlyKWAdj from the algorithm described above, but with an addition of the estimated PV output on top of the hourly-aggregated net meter value):"
      ]
    },
    {
      "cell_type": "code",
      "source": [
        "%%sql\n",
        "SELECT MAX(s.max_value * s.period * IF(s.cnt=1,1.3,1)) kW FROM (\n",
        "    SELECT STR_TO_DATE(e.SM_DATETIME, '%Y-%m-%d %H') sm_datetime, COUNT(DISTINCT e.value) cnt, MAX(e.value + IFNULL(pv.value / e.period, 0)) max_value, MAX(e.period) period\n",
        "    FROM smart_meter_electric e\n",
        "    LEFT JOIN pv_output pv ON (e.USER_ID = pv.USER_ID AND STR_TO_DATE(e.SM_DATETIME, '%Y-%m-%d %H') = pv.CM_DATETIME)\n",
        "    WHERE\n",
        "        e.sm_datetime >= NOW() - INTERVAL 1 YEAR and e.YEAR IN (YEAR(NOW()), YEAR(NOW())-1)\n",
        "        AND e.USER_ID = :userId\n",
        "    GROUP BY STR_TO_DATE(e.SM_DATETIME, '%Y-%m-%d %H')\n",
        ") s"
      ],
      "metadata": {
        "id": "qFFbrU8Ap933",
        "colab": {
          "base_uri": "https://localhost:8080/"
        },
        "outputId": "c278a9a6-7b2a-4e04-be88-510cdb3b6ef9"
      },
      "id": "qFFbrU8Ap933",
      "execution_count": 12,
      "outputs": [
        {
          "output_type": "stream",
          "name": "stderr",
          "text": [
            "UsageError: Cell magic `%%sql` not found.\n"
          ]
        }
      ]
    },
    {
      "cell_type": "markdown",
      "id": "66a2c5fb-988d-492e-bef5-3e9b5d325d03",
      "metadata": {
        "id": "66a2c5fb-988d-492e-bef5-3e9b5d325d03"
      },
      "source": [
        "For further reference, here's how we currently compute sv_remainingPanelCapacity based on sv_highestIntervalKW obtained from the above query:"
      ]
    },
    {
      "cell_type": "code",
      "execution_count": 11,
      "id": "65ebc44c-16d1-44fa-a7b2-5c276e6a734b",
      "metadata": {
        "colab": {
          "base_uri": "https://localhost:8080/",
          "height": 17
        },
        "id": "65ebc44c-16d1-44fa-a7b2-5c276e6a734b",
        "outputId": "b68a81c0-75f0-45fe-951f-61d512fdb99b"
      },
      "outputs": [
        {
          "output_type": "display_data",
          "data": {
            "text/plain": [
              "<IPython.core.display.Javascript object>"
            ],
            "application/javascript": [
              "    var actualPanelSize = integerValue(getValue('Electrification', 'be_PanelSize'));\n",
              "\n",
              "    var panelSizes;\n",
              "    if (actualPanelSize > 0)\n",
              "    {\n",
              "        panelSizes = [ actualPanelSize ];\n",
              "    }\n",
              "    else\n",
              "    {\n",
              "        panelSizes = STD_PANEL_SIZES.paramValue || '';\n",
              "        panelSizes = panelSizes.split(',');\n",
              "    }\n",
              "\n",
              "    var arr = [];\n",
              "    for (var i = 0; i < panelSizes.length; i++)\n",
              "    {\n",
              "        // [Panel Capacity in kW] = [Panel size in AMPs] * 240 Volts / 1000\n",
              "        // [Remaining capacity in kW] = [Panel Capacity] - 1.25 * [Peak power in kW]\n",
              "\n",
              "        var capacityKW = new java.lang.Integer(panelSizes[i]) * 240 / 1000;\n",
              "        var remainingCapacityKW = capacityKW - 1.25 * sv_highestIntervalKW;\n",
              "\n",
              "        if (remainingCapacityKW > 0 && arr.length < 3)\n",
              "        {\n",
              "            arr.push({ \"panelSize\": new java.lang.Integer(panelSizes[i]), \"kW\": remainingCapacityKW });\n",
              "        }\n",
              "    }\n",
              "\n",
              "    var html = '';\n",
              "    if (arr.length > 0)\n",
              "    {\n",
              "      html = '<table style=\"width:370px\">';\n",
              "      for (var i = 0; i < arr.length; i++)\n",
              "      {\n",
              "        html += '<tr><td class=\"sectionsubtitle\" style=\"width:292px\">Remaining capacity for a ' + arr[i].panelSize + ' amp panel:</td><td class=\"sectionsubtitle\" style=\"text-align:right\">' + formatNumber(arr[i].kW, '###.##') + '&nbs\n",
              "      }\n",
              "      html += '</table>';\n",
              "    }\n",
              "\n",
              "    return html\n"
            ]
          },
          "metadata": {}
        }
      ],
      "source": [
        "%%javascript\n",
        "    var actualPanelSize = integerValue(getValue('Electrification', 'be_PanelSize'));\n",
        "\n",
        "    var panelSizes;\n",
        "    if (actualPanelSize > 0)\n",
        "    {\n",
        "        panelSizes = [ actualPanelSize ];\n",
        "    }\n",
        "    else\n",
        "    {\n",
        "        panelSizes = STD_PANEL_SIZES.paramValue || '';\n",
        "        panelSizes = panelSizes.split(',');\n",
        "    }\n",
        "\n",
        "    var arr = [];\n",
        "    for (var i = 0; i < panelSizes.length; i++)\n",
        "    {\n",
        "        // [Panel Capacity in kW] = [Panel size in AMPs] * 240 Volts / 1000\n",
        "        // [Remaining capacity in kW] = [Panel Capacity] - 1.25 * [Peak power in kW]\n",
        "\n",
        "        var capacityKW = new java.lang.Integer(panelSizes[i]) * 240 / 1000;\n",
        "        var remainingCapacityKW = capacityKW - 1.25 * sv_highestIntervalKW;\n",
        "\n",
        "        if (remainingCapacityKW > 0 && arr.length < 3)\n",
        "        {\n",
        "            arr.push({ \"panelSize\": new java.lang.Integer(panelSizes[i]), \"kW\": remainingCapacityKW });\n",
        "        }\n",
        "    }\n",
        "\n",
        "    var html = '';\n",
        "    if (arr.length > 0)\n",
        "    {\n",
        "      html = '<table style=\"width:370px\">';\n",
        "      for (var i = 0; i < arr.length; i++)\n",
        "      {\n",
        "        html += '<tr><td class=\"sectionsubtitle\" style=\"width:292px\">Remaining capacity for a ' + arr[i].panelSize + ' amp panel:</td><td class=\"sectionsubtitle\" style=\"text-align:right\">' + formatNumber(arr[i].kW, '###.##') + '&nbs\n",
        "      }\n",
        "      html += '</table>';\n",
        "    }\n",
        "\n",
        "    return html"
      ]
    }
  ],
  "metadata": {
    "kernelspec": {
      "display_name": "Python 3",
      "language": "python",
      "name": "python3"
    },
    "language_info": {
      "codemirror_mode": {
        "name": "ipython",
        "version": 3
      },
      "file_extension": ".py",
      "mimetype": "text/x-python",
      "name": "python",
      "nbconvert_exporter": "python",
      "pygments_lexer": "ipython3",
      "version": "3.10.9"
    },
    "colab": {
      "provenance": [],
      "toc_visible": true,
      "include_colab_link": true
    }
  },
  "nbformat": 4,
  "nbformat_minor": 5
}